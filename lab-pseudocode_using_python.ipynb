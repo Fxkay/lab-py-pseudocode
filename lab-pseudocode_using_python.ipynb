{
 "cells": [
  {
   "cell_type": "markdown",
   "metadata": {},
   "source": [
    "# LAB | Pseudocode Using Python\n",
    "\n",
    "## Overview\n",
    "\n",
    "This exercise will help you practice writing pseudocode and translating it into Python code. Pseudocode is a way to describe algorithms in a human-readable format, which can then be implemented in programming languages.\n",
    "\n"
   ]
  },
  {
   "cell_type": "markdown",
   "metadata": {},
   "source": [
    "### Exercise 1: Multiply Two Numbers\n",
    "\n",
    "Write a pseudocode to read two numbers and multiply them together. Then, write the equivalent Python code."
   ]
  },
  {
   "cell_type": "markdown",
   "metadata": {},
   "source": [
    "<!-- Add your pseudocode here -->"
   ]
  },
  {
   "cell_type": "code",
   "execution_count": 8,
   "metadata": {},
   "outputs": [
    {
     "name": "stdout",
     "output_type": "stream",
     "text": [
      "The mutliplication of the two numbers is: 9\n"
     ]
    }
   ],
   "source": [
    "# Print on screen [Enter Value of the first number]\n",
    "# Accept value of the first number and store a varialble name F\n",
    "# Print on screen [Enter Value of the Second number]\n",
    "# Accept value of the first number and store a varialble name S\n",
    "# Compute the sum of F and S and store it in a variable named SUM   \n",
    "# Print on screen [The sum of the two numbers is: ] and the value of SUM\n",
    "# Add your code solution here\n",
    "\n",
    "F=input(\"Enter Value of the first number: \")\n",
    "S=input(\"Enter Value of the SECOND number: \")\n",
    "SUM = int(F) * int(S)\n",
    "print(\"The mutliplication of the two numbers is:\", SUM)\n",
    "\n"
   ]
  },
  {
   "cell_type": "markdown",
   "metadata": {},
   "source": [
    "### Exercise 2: Check Even or Odd\n",
    "\n",
    "Write pseudocode that checks if a number is even or odd and prints the result. Then, write the equivalent Python code."
   ]
  },
  {
   "cell_type": "markdown",
   "metadata": {},
   "source": [
    "<!-- Add your pseudocode here -->"
   ]
  },
  {
   "cell_type": "code",
   "execution_count": 9,
   "metadata": {},
   "outputs": [
    {
     "name": "stdout",
     "output_type": "stream",
     "text": [
      "All good, The number is odd\n"
     ]
    }
   ],
   "source": [
    "# Print on screen [Enter Value of the Number you if it is even or odd]\n",
    "# Accept value of the first number and store a varialble name Number\n",
    "# Start a conditional statement to check if Number is even or odd\n",
    "# If Number is even, print on screen [The number is even]   \\\n",
    "# Else, print on screen [The number is odd]\n",
    "\n",
    "# Add your code solution here \n",
    "number = int(input(\"Enter a Number to check if it is even or odd: \"))\n",
    "if number % 2 == 0:\n",
    "    print(\"Congratualtions , The number is even\")\n",
    "else:\n",
    "    print(\"All good, The number is odd\")\n",
    "    "
   ]
  },
  {
   "cell_type": "markdown",
   "metadata": {},
   "source": [
    "### Exercise 3: Sum of First N Natural Numbers\n",
    "\n",
    "Write pseudocode to calculate the sum of the first N natural numbers. Then, write the equivalent Python code."
   ]
  },
  {
   "cell_type": "markdown",
   "metadata": {},
   "source": [
    "<!-- Add your pseudocode here -->"
   ]
  },
  {
   "cell_type": "code",
   "execution_count": 22,
   "metadata": {},
   "outputs": [
    {
     "name": "stdout",
     "output_type": "stream",
     "text": [
      "This program will calculate the sum of a specific range of natural numbers\n",
      "Natural numbers are numbers that are non- zero positive integers eg 1,2,3,4,6,..... \n",
      "Oh I forgot to mention, the first number should not be less than the last number \n",
      "The sumed of the natural numbers is: 54\n"
     ]
    }
   ],
   "source": [
    "\n",
    "# for numbers that are natural starting from a said number\n",
    "# Print on screen [This program will calculate the sum of a specific range of natural numbers]\n",
    "# Print on screen [Natural numbers are numbers that are non- zero positive integers eg 1,2,3,4,6,..... ]\n",
    "# Print on screen [Enter the first number of the range]\n",
    "# Accept value of the first number and store a varialble name first_number\n",
    "# Print on the screen [Enter the last of the range]\n",
    "# Accept value of the last number and store a varialble name last_number\n",
    "# Start a conditional statement to check if first_number is less than last_number   \n",
    "# If first_number is less than last_number, then:\n",
    "# - Initialize a variable named sum_of_numbers to 0\n",
    "# - Start a loop to iterate from first_number to last_number\n",
    "# - In each iteration, add the current number to sum_of_numbers\n",
    "# - After the loop, print on screen [The sum of the numbers in the range is: ] and the value of sum_of_numbers\n",
    "# Else, print on screen [The first number should not be less than the last number]\n",
    "\n",
    "\n",
    "print(\"This program will calculate the sum of a specific range of natural numbers\")\n",
    "print(\"Natural numbers are numbers that are non- zero positive integers eg 1,2,3,4,6,..... \")\n",
    "print(\"Oh I forgot to mention, the first number should not be less than the last number \")\n",
    "first_number = int(input(\"Enter the first number of the range: \"))\n",
    "last_number = int(input(\"Enter the last of the range: \"))\n",
    "if first_number < last_number:\n",
    "    sum_of_numbers = 0\n",
    "    for number in range(first_number, last_number + 1):\n",
    "        sum_of_numbers += number\n",
    "    print(\"The sumed of the natural numbers is:\", sum_of_numbers)\n",
    "else:\n",
    "    print(\"The is an error in Logic , The first number cannot be less than the last number\")\n"
   ]
  },
  {
   "cell_type": "markdown",
   "metadata": {},
   "source": [
    "### Exercise 4: Find Maximum of Three Numbers\n",
    "\n",
    "Write pseudocode that finds the maximum of three numbers entered by the user. Then, write the equivalent Python code."
   ]
  },
  {
   "cell_type": "markdown",
   "metadata": {},
   "source": [
    "<!-- Add your pseudocode here -->"
   ]
  },
  {
   "cell_type": "code",
   "execution_count": 42,
   "metadata": {},
   "outputs": [],
   "source": [
    "# Add your code solution here"
   ]
  },
  {
   "cell_type": "markdown",
   "metadata": {},
   "source": [
    "### Exercise 5: Count Vowels in a String\n",
    "\n",
    "Write pseudocode to count the number of vowels in a given string and print the count. Then, write the equivalent Python code."
   ]
  },
  {
   "cell_type": "markdown",
   "metadata": {},
   "source": [
    "<!-- Add your pseudocode here -->"
   ]
  },
  {
   "cell_type": "code",
   "execution_count": null,
   "metadata": {},
   "outputs": [],
   "source": [
    "# Add your code solution here"
   ]
  },
  {
   "cell_type": "markdown",
   "metadata": {},
   "source": [
    "## Bonus Exercises\n",
    "\n",
    "### Bonus Exercise 6: Reverse a String\n",
    "\n",
    "Write pseudocode to reverse a given string and print it out."
   ]
  },
  {
   "cell_type": "markdown",
   "metadata": {},
   "source": [
    "<!-- Add your pseudocode here -->"
   ]
  },
  {
   "cell_type": "code",
   "execution_count": null,
   "metadata": {},
   "outputs": [],
   "source": [
    "# Add your code solution here"
   ]
  },
  {
   "cell_type": "markdown",
   "metadata": {},
   "source": [
    "### Bonus Exercise 7: Print Multiplication Table of a Number\n",
    "\n",
    "Write pseudocode to print the multiplication table of a given number up to 10."
   ]
  },
  {
   "cell_type": "markdown",
   "metadata": {},
   "source": [
    "<!-- Add your pseudocode here -->"
   ]
  },
  {
   "cell_type": "code",
   "execution_count": null,
   "metadata": {},
   "outputs": [],
   "source": [
    "# Add your code solution here"
   ]
  },
  {
   "cell_type": "markdown",
   "metadata": {},
   "source": [
    "### Bonus Exercise 8: Count Words in a String\n",
    "\n",
    "Write pseudocode that counts the words in a given string and prints the result."
   ]
  },
  {
   "cell_type": "markdown",
   "metadata": {},
   "source": [
    "<!-- Add your pseudocode here -->"
   ]
  },
  {
   "cell_type": "code",
   "execution_count": 46,
   "metadata": {},
   "outputs": [],
   "source": [
    "# Add your code solution here"
   ]
  },
  {
   "cell_type": "markdown",
   "metadata": {},
   "source": [
    "### Bonus Exercise 9: Find Factorial of a Number\n",
    "\n",
    "Write pseudocode that calculates the factorial of a given positive integer."
   ]
  },
  {
   "cell_type": "markdown",
   "metadata": {},
   "source": [
    "<!-- Add your pseudocode here -->"
   ]
  },
  {
   "cell_type": "code",
   "execution_count": null,
   "metadata": {},
   "outputs": [],
   "source": [
    "# Add your code solution here"
   ]
  },
  {
   "cell_type": "markdown",
   "metadata": {},
   "source": [
    "### Bonus Exercise 10: FizzBuzz Problem\n",
    "\n",
    "Write pseudocode for the FizzBuzz problem where you print numbers from 1 to N but replace multiples of three with \"Fizz\" and multiples of five with \"Buzz\"."
   ]
  },
  {
   "cell_type": "markdown",
   "metadata": {},
   "source": [
    "<!-- Add your pseudocode here -->"
   ]
  },
  {
   "cell_type": "code",
   "execution_count": 48,
   "metadata": {},
   "outputs": [],
   "source": [
    "# Add your code solution here"
   ]
  }
 ],
 "metadata": {
  "kernelspec": {
   "display_name": "iron_hack_2",
   "language": "python",
   "name": "python3"
  },
  "language_info": {
   "codemirror_mode": {
    "name": "ipython",
    "version": 3
   },
   "file_extension": ".py",
   "mimetype": "text/x-python",
   "name": "python",
   "nbconvert_exporter": "python",
   "pygments_lexer": "ipython3",
   "version": "3.10.18"
  }
 },
 "nbformat": 4,
 "nbformat_minor": 2
}
